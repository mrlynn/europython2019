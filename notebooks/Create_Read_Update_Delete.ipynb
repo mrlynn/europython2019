{
 "cells": [
  {
   "cell_type": "markdown",
   "metadata": {},
   "source": [
    "# Import the pymongo Library\n",
    "\n",
    "The first step in using `pymongo` is to import it into our local context.\n",
    "\n",
    "This exposes all methods exported from the `pymongo` library and makes them available in our local context.\n",
    "\n",
    "For additional information on all methods available in `pymongo`, visit the [documentation](https://api.mongodb.com/python/current/)"
   ]
  },
  {
   "cell_type": "code",
   "execution_count": 1,
   "metadata": {},
   "outputs": [
    {
     "name": "stdout",
     "output_type": "stream",
     "text": [
      "Requirement already satisfied: Flask==0.12.4 in /Users/mlynn/code/.virtualenvs/mflix/lib/python3.6/site-packages (from -r ../requirements.txt (line 1)) (0.12.4)\n",
      "Requirement already satisfied: Flask-Bcrypt==0.7.1 in /Users/mlynn/code/.virtualenvs/mflix/lib/python3.6/site-packages (from -r ../requirements.txt (line 2)) (0.7.1)\n",
      "Requirement already satisfied: Flask-Login==0.4.0 in /Users/mlynn/code/.virtualenvs/mflix/lib/python3.6/site-packages (from -r ../requirements.txt (line 3)) (0.4.0)\n",
      "Requirement already satisfied: pymongo==3.7.0 in /Users/mlynn/code/.virtualenvs/mflix/lib/python3.6/site-packages (from -r ../requirements.txt (line 4)) (3.7.0)\n",
      "Requirement already satisfied: dnspython==1.15.0 in /Users/mlynn/code/.virtualenvs/mflix/lib/python3.6/site-packages (from -r ../requirements.txt (line 5)) (1.15.0)\n",
      "Requirement already satisfied: pytest==3.3.0 in /Users/mlynn/code/.virtualenvs/mflix/lib/python3.6/site-packages (from -r ../requirements.txt (line 6)) (3.3.0)\n",
      "Requirement already satisfied: pytest-flask==0.10.0 in /Users/mlynn/code/.virtualenvs/mflix/lib/python3.6/site-packages (from -r ../requirements.txt (line 7)) (0.10.0)\n",
      "Requirement already satisfied: Flask-Cors==3.0.3 in /Users/mlynn/code/.virtualenvs/mflix/lib/python3.6/site-packages (from -r ../requirements.txt (line 8)) (3.0.3)\n",
      "Requirement already satisfied: flask-jwt-extended==3.7.0 in /Users/mlynn/code/.virtualenvs/mflix/lib/python3.6/site-packages (from -r ../requirements.txt (line 9)) (3.7.0)\n",
      "Requirement already satisfied: faker==0.8.13 in /Users/mlynn/code/.virtualenvs/mflix/lib/python3.6/site-packages (from -r ../requirements.txt (line 10)) (0.8.13)\n",
      "Requirement already satisfied: jupyter==1.0.0 in /Users/mlynn/code/.virtualenvs/mflix/lib/python3.6/site-packages (from -r ../requirements.txt (line 11)) (1.0.0)\n",
      "Requirement already satisfied: jupyter-client==5.2.4 in /Users/mlynn/code/.virtualenvs/mflix/lib/python3.6/site-packages (from -r ../requirements.txt (line 12)) (5.2.4)\n",
      "Requirement already satisfied: jupyter-console==6.0.0 in /Users/mlynn/code/.virtualenvs/mflix/lib/python3.6/site-packages (from -r ../requirements.txt (line 13)) (6.0.0)\n",
      "Requirement already satisfied: jupyter-core==4.4.0 in /Users/mlynn/code/.virtualenvs/mflix/lib/python3.6/site-packages (from -r ../requirements.txt (line 14)) (4.4.0)\n",
      "Requirement already satisfied: Werkzeug>=0.7 in /Users/mlynn/code/.virtualenvs/mflix/lib/python3.6/site-packages (from Flask==0.12.4->-r ../requirements.txt (line 1)) (0.15.4)\n",
      "Requirement already satisfied: Jinja2>=2.4 in /Users/mlynn/code/.virtualenvs/mflix/lib/python3.6/site-packages (from Flask==0.12.4->-r ../requirements.txt (line 1)) (2.10.1)\n",
      "Requirement already satisfied: itsdangerous>=0.21 in /Users/mlynn/code/.virtualenvs/mflix/lib/python3.6/site-packages (from Flask==0.12.4->-r ../requirements.txt (line 1)) (1.1.0)\n",
      "Requirement already satisfied: click>=2.0 in /Users/mlynn/code/.virtualenvs/mflix/lib/python3.6/site-packages (from Flask==0.12.4->-r ../requirements.txt (line 1)) (7.0)\n",
      "Requirement already satisfied: bcrypt in /Users/mlynn/code/.virtualenvs/mflix/lib/python3.6/site-packages (from Flask-Bcrypt==0.7.1->-r ../requirements.txt (line 2)) (3.1.7)\n",
      "Requirement already satisfied: py>=1.5.0 in /Users/mlynn/code/.virtualenvs/mflix/lib/python3.6/site-packages (from pytest==3.3.0->-r ../requirements.txt (line 6)) (1.8.0)\n",
      "Requirement already satisfied: six>=1.10.0 in /Users/mlynn/code/.virtualenvs/mflix/lib/python3.6/site-packages (from pytest==3.3.0->-r ../requirements.txt (line 6)) (1.12.0)\n",
      "Requirement already satisfied: pluggy<0.7,>=0.5 in /Users/mlynn/code/.virtualenvs/mflix/lib/python3.6/site-packages (from pytest==3.3.0->-r ../requirements.txt (line 6)) (0.6.0)\n",
      "Requirement already satisfied: setuptools in /Users/mlynn/code/.virtualenvs/mflix/lib/python3.6/site-packages (from pytest==3.3.0->-r ../requirements.txt (line 6)) (41.0.1)\n",
      "Requirement already satisfied: attrs>=17.2.0 in /Users/mlynn/code/.virtualenvs/mflix/lib/python3.6/site-packages (from pytest==3.3.0->-r ../requirements.txt (line 6)) (19.1.0)\n",
      "Requirement already satisfied: PyJWT in /Users/mlynn/code/.virtualenvs/mflix/lib/python3.6/site-packages (from flask-jwt-extended==3.7.0->-r ../requirements.txt (line 9)) (1.7.1)\n",
      "Requirement already satisfied: python-dateutil>=2.4 in /Users/mlynn/code/.virtualenvs/mflix/lib/python3.6/site-packages (from faker==0.8.13->-r ../requirements.txt (line 10)) (2.8.0)\n",
      "Requirement already satisfied: text-unidecode==1.2 in /Users/mlynn/code/.virtualenvs/mflix/lib/python3.6/site-packages (from faker==0.8.13->-r ../requirements.txt (line 10)) (1.2)\n",
      "Requirement already satisfied: ipywidgets in /Users/mlynn/code/.virtualenvs/mflix/lib/python3.6/site-packages (from jupyter==1.0.0->-r ../requirements.txt (line 11)) (7.4.2)\n",
      "Requirement already satisfied: nbconvert in /Users/mlynn/code/.virtualenvs/mflix/lib/python3.6/site-packages (from jupyter==1.0.0->-r ../requirements.txt (line 11)) (5.5.0)\n",
      "Requirement already satisfied: notebook in /Users/mlynn/code/.virtualenvs/mflix/lib/python3.6/site-packages (from jupyter==1.0.0->-r ../requirements.txt (line 11)) (5.7.8)\n",
      "Requirement already satisfied: ipykernel in /Users/mlynn/code/.virtualenvs/mflix/lib/python3.6/site-packages (from jupyter==1.0.0->-r ../requirements.txt (line 11)) (5.1.1)\n",
      "Requirement already satisfied: qtconsole in /Users/mlynn/code/.virtualenvs/mflix/lib/python3.6/site-packages (from jupyter==1.0.0->-r ../requirements.txt (line 11)) (4.5.1)\n",
      "Requirement already satisfied: traitlets in /Users/mlynn/code/.virtualenvs/mflix/lib/python3.6/site-packages (from jupyter-client==5.2.4->-r ../requirements.txt (line 12)) (4.3.2)\n",
      "Requirement already satisfied: pyzmq>=13 in /Users/mlynn/code/.virtualenvs/mflix/lib/python3.6/site-packages (from jupyter-client==5.2.4->-r ../requirements.txt (line 12)) (18.0.1)\n",
      "Requirement already satisfied: tornado>=4.1 in /Users/mlynn/code/.virtualenvs/mflix/lib/python3.6/site-packages (from jupyter-client==5.2.4->-r ../requirements.txt (line 12)) (6.0.2)\n",
      "Requirement already satisfied: prompt-toolkit<2.1.0,>=2.0.0 in /Users/mlynn/code/.virtualenvs/mflix/lib/python3.6/site-packages (from jupyter-console==6.0.0->-r ../requirements.txt (line 13)) (2.0.9)\n",
      "Requirement already satisfied: ipython in /Users/mlynn/code/.virtualenvs/mflix/lib/python3.6/site-packages (from jupyter-console==6.0.0->-r ../requirements.txt (line 13)) (7.5.0)\n",
      "Requirement already satisfied: pygments in /Users/mlynn/code/.virtualenvs/mflix/lib/python3.6/site-packages (from jupyter-console==6.0.0->-r ../requirements.txt (line 13)) (2.4.2)\n",
      "Requirement already satisfied: MarkupSafe>=0.23 in /Users/mlynn/code/.virtualenvs/mflix/lib/python3.6/site-packages (from Jinja2>=2.4->Flask==0.12.4->-r ../requirements.txt (line 1)) (1.1.1)\n",
      "Requirement already satisfied: cffi>=1.1 in /Users/mlynn/code/.virtualenvs/mflix/lib/python3.6/site-packages (from bcrypt->Flask-Bcrypt==0.7.1->-r ../requirements.txt (line 2)) (1.12.3)\n",
      "Requirement already satisfied: nbformat>=4.2.0 in /Users/mlynn/code/.virtualenvs/mflix/lib/python3.6/site-packages (from ipywidgets->jupyter==1.0.0->-r ../requirements.txt (line 11)) (4.4.0)\n",
      "Requirement already satisfied: widgetsnbextension~=3.4.0 in /Users/mlynn/code/.virtualenvs/mflix/lib/python3.6/site-packages (from ipywidgets->jupyter==1.0.0->-r ../requirements.txt (line 11)) (3.4.2)\n",
      "Requirement already satisfied: mistune>=0.8.1 in /Users/mlynn/code/.virtualenvs/mflix/lib/python3.6/site-packages (from nbconvert->jupyter==1.0.0->-r ../requirements.txt (line 11)) (0.8.4)\n",
      "Requirement already satisfied: defusedxml in /Users/mlynn/code/.virtualenvs/mflix/lib/python3.6/site-packages (from nbconvert->jupyter==1.0.0->-r ../requirements.txt (line 11)) (0.6.0)\n",
      "Requirement already satisfied: testpath in /Users/mlynn/code/.virtualenvs/mflix/lib/python3.6/site-packages (from nbconvert->jupyter==1.0.0->-r ../requirements.txt (line 11)) (0.4.2)\n",
      "Requirement already satisfied: entrypoints>=0.2.2 in /Users/mlynn/code/.virtualenvs/mflix/lib/python3.6/site-packages (from nbconvert->jupyter==1.0.0->-r ../requirements.txt (line 11)) (0.3)\n",
      "Requirement already satisfied: bleach in /Users/mlynn/code/.virtualenvs/mflix/lib/python3.6/site-packages (from nbconvert->jupyter==1.0.0->-r ../requirements.txt (line 11)) (3.1.0)\n",
      "Requirement already satisfied: pandocfilters>=1.4.1 in /Users/mlynn/code/.virtualenvs/mflix/lib/python3.6/site-packages (from nbconvert->jupyter==1.0.0->-r ../requirements.txt (line 11)) (1.4.2)\n"
     ]
    },
    {
     "name": "stdout",
     "output_type": "stream",
     "text": [
      "Requirement already satisfied: Send2Trash in /Users/mlynn/code/.virtualenvs/mflix/lib/python3.6/site-packages (from notebook->jupyter==1.0.0->-r ../requirements.txt (line 11)) (1.5.0)\n",
      "Requirement already satisfied: terminado>=0.8.1 in /Users/mlynn/code/.virtualenvs/mflix/lib/python3.6/site-packages (from notebook->jupyter==1.0.0->-r ../requirements.txt (line 11)) (0.8.2)\n",
      "Requirement already satisfied: ipython-genutils in /Users/mlynn/code/.virtualenvs/mflix/lib/python3.6/site-packages (from notebook->jupyter==1.0.0->-r ../requirements.txt (line 11)) (0.2.0)\n",
      "Requirement already satisfied: prometheus-client in /Users/mlynn/code/.virtualenvs/mflix/lib/python3.6/site-packages (from notebook->jupyter==1.0.0->-r ../requirements.txt (line 11)) (0.7.0)\n",
      "Requirement already satisfied: decorator in /Users/mlynn/code/.virtualenvs/mflix/lib/python3.6/site-packages (from traitlets->jupyter-client==5.2.4->-r ../requirements.txt (line 12)) (4.4.0)\n",
      "Requirement already satisfied: wcwidth in /Users/mlynn/code/.virtualenvs/mflix/lib/python3.6/site-packages (from prompt-toolkit<2.1.0,>=2.0.0->jupyter-console==6.0.0->-r ../requirements.txt (line 13)) (0.1.7)\n",
      "Requirement already satisfied: jedi>=0.10 in /Users/mlynn/code/.virtualenvs/mflix/lib/python3.6/site-packages (from ipython->jupyter-console==6.0.0->-r ../requirements.txt (line 13)) (0.13.3)\n",
      "Requirement already satisfied: pickleshare in /Users/mlynn/code/.virtualenvs/mflix/lib/python3.6/site-packages (from ipython->jupyter-console==6.0.0->-r ../requirements.txt (line 13)) (0.7.5)\n",
      "Requirement already satisfied: pexpect; sys_platform != \"win32\" in /Users/mlynn/code/.virtualenvs/mflix/lib/python3.6/site-packages (from ipython->jupyter-console==6.0.0->-r ../requirements.txt (line 13)) (4.7.0)\n",
      "Requirement already satisfied: backcall in /Users/mlynn/code/.virtualenvs/mflix/lib/python3.6/site-packages (from ipython->jupyter-console==6.0.0->-r ../requirements.txt (line 13)) (0.1.0)\n",
      "Requirement already satisfied: appnope; sys_platform == \"darwin\" in /Users/mlynn/code/.virtualenvs/mflix/lib/python3.6/site-packages (from ipython->jupyter-console==6.0.0->-r ../requirements.txt (line 13)) (0.1.0)\n",
      "Requirement already satisfied: pycparser in /Users/mlynn/code/.virtualenvs/mflix/lib/python3.6/site-packages (from cffi>=1.1->bcrypt->Flask-Bcrypt==0.7.1->-r ../requirements.txt (line 2)) (2.19)\n",
      "Requirement already satisfied: jsonschema!=2.5.0,>=2.4 in /Users/mlynn/code/.virtualenvs/mflix/lib/python3.6/site-packages (from nbformat>=4.2.0->ipywidgets->jupyter==1.0.0->-r ../requirements.txt (line 11)) (3.0.1)\n",
      "Requirement already satisfied: webencodings in /Users/mlynn/code/.virtualenvs/mflix/lib/python3.6/site-packages (from bleach->nbconvert->jupyter==1.0.0->-r ../requirements.txt (line 11)) (0.5.1)\n",
      "Requirement already satisfied: ptyprocess; os_name != \"nt\" in /Users/mlynn/code/.virtualenvs/mflix/lib/python3.6/site-packages (from terminado>=0.8.1->notebook->jupyter==1.0.0->-r ../requirements.txt (line 11)) (0.6.0)\n",
      "Requirement already satisfied: parso>=0.3.0 in /Users/mlynn/code/.virtualenvs/mflix/lib/python3.6/site-packages (from jedi>=0.10->ipython->jupyter-console==6.0.0->-r ../requirements.txt (line 13)) (0.4.0)\n",
      "Requirement already satisfied: pyrsistent>=0.14.0 in /Users/mlynn/code/.virtualenvs/mflix/lib/python3.6/site-packages (from jsonschema!=2.5.0,>=2.4->nbformat>=4.2.0->ipywidgets->jupyter==1.0.0->-r ../requirements.txt (line 11)) (0.15.2)\n",
      "Note: you may need to restart the kernel to use updated packages.\n"
     ]
    }
   ],
   "source": [
    "%pwd # should be mflix-python\n",
    "%pip install -r ../requirements.txt"
   ]
  },
  {
   "cell_type": "code",
   "execution_count": 2,
   "metadata": {},
   "outputs": [],
   "source": [
    "import pymongo"
   ]
  },
  {
   "cell_type": "markdown",
   "metadata": {},
   "source": [
    "# Establish a connection\n",
    "\n",
    "When working with `pymongo` is to create a client that exposes the connection to your MongoDB instance. Since we're working with MongoDB Atlas, you'll need the connection URI - you can obtain this by clicking the _CONNECT_ button from within the Atlas Management Console. \n",
    "\n",
    "![Connect](atlas_connect.gif)\n"
   ]
  },
  {
   "cell_type": "markdown",
   "metadata": {},
   "source": [
    "###  Create a variable to hold the URI String which points to our MongoDB Atlas Cluster. \n",
    "\n",
    "Note the use of the SRV Record. This simplifies reference to a cluster of nodes."
   ]
  },
  {
   "cell_type": "code",
   "execution_count": 12,
   "metadata": {},
   "outputs": [],
   "source": [
    "uri = \"mongodb+srv://<Your User>:<Password>@mflix-zbcul.mongodb.net/?retryWrites=true&w=majority\""
   ]
  },
  {
   "cell_type": "markdown",
   "metadata": {},
   "source": [
    "### Now, create a client object that will expose methods from our pymongo MongoClient connection."
   ]
  },
  {
   "cell_type": "code",
   "execution_count": 13,
   "metadata": {},
   "outputs": [],
   "source": [
    "client = pymongo.MongoClient(uri)"
   ]
  },
  {
   "cell_type": "markdown",
   "metadata": {},
   "source": [
    "### Create a variable that points to the database from our client connection.\n",
    "\n",
    "In this case, we\\'re accessing our `sample_mflix` collection in our cluster. If you have not loaded the sample databases, review this document.\n"
   ]
  },
  {
   "cell_type": "code",
   "execution_count": 14,
   "metadata": {},
   "outputs": [],
   "source": [
    "mflix = client.sample_mflix_test"
   ]
  },
  {
   "cell_type": "markdown",
   "metadata": {},
   "source": [
    "### Create a variable pointing to the collection within our mflix database"
   ]
  },
  {
   "cell_type": "code",
   "execution_count": 15,
   "metadata": {},
   "outputs": [],
   "source": [
    "movies = mflix.movies"
   ]
  },
  {
   "cell_type": "markdown",
   "metadata": {},
   "source": [
    "# CREATE: Creating, or Inserting Data into MongoDB\n",
    "\n",
    "Now that we have a connection, let's Create a new document in the movies connection\n",
    "\n",
    "[Documentation for Creating](https://docs.mongodb.com/manual/crud/#create-operations)"
   ]
  },
  {
   "cell_type": "markdown",
   "metadata": {},
   "source": [
    "## Inserting a Single Document"
   ]
  },
  {
   "cell_type": "code",
   "execution_count": 16,
   "metadata": {},
   "outputs": [
    {
     "data": {
      "text/plain": [
       "<pymongo.results.InsertOneResult at 0x11246d208>"
      ]
     },
     "execution_count": 16,
     "metadata": {},
     "output_type": "execute_result"
    }
   ],
   "source": [
    "movies.insert_one({\n",
    "    'title': 'a new movie',\n",
    "    'fullplot': 'a new movie about a panda that eats shoots and leaves',\n",
    "    'countries': ['USA'],\n",
    "     'year': 1893,\n",
    "     'type': 'movie',\n",
    "     'genres': ['Short'],\n",
    "     'cast': ['Panda', 'Michael Scott']\n",
    "})"
   ]
  },
  {
   "cell_type": "markdown",
   "metadata": {},
   "source": [
    "## Inserting Many Documents\n",
    "Note that you can simply create an array of JSON documents and pass that to the insert_many method."
   ]
  },
  {
   "cell_type": "code",
   "execution_count": 17,
   "metadata": {},
   "outputs": [
    {
     "data": {
      "text/plain": [
       "<pymongo.results.InsertManyResult at 0x1125dc488>"
      ]
     },
     "execution_count": 17,
     "metadata": {},
     "output_type": "execute_result"
    }
   ],
   "source": [
    "moremovies = [\n",
    "    {\n",
    "        \"title\": \"a title\",\n",
    "        'fullplot': 'a movie',\n",
    "        'countries': ['USA'],\n",
    "        'year': 1891,\n",
    "         'type': 'movie',\n",
    "         'genres': ['Short'],\n",
    "         'cast': ['Chad Smith', 'Anthony Keidis']\n",
    "    },{\n",
    "        \"title\": \"b title\",\n",
    "        'fullplot': 'b movie',\n",
    "        'countries': ['USA'],\n",
    "        'year': 1894,\n",
    "         'type': 'movie',\n",
    "         'genres': ['Short'],\n",
    "         'cast': ['Getty Lee', 'Neil Pert']\n",
    "    },{\n",
    "        \"title\": \"c title\",\n",
    "        'fullplot': 'c movie',\n",
    "        'countries': ['USA'],\n",
    "        'year': 1892,\n",
    "         'type': 'movie',\n",
    "         'genres': ['Short'],\n",
    "         'cast': ['Sasha Baron Cohen']\n",
    "    }\n",
    "]\n",
    "movies.insert_many(moremovies)\n"
   ]
  },
  {
   "cell_type": "markdown",
   "metadata": {},
   "source": [
    "# READ: Reading Documents with Pymongo\n",
    "\n",
    "[Documentation for Reads](https://docs.mongodb.com/manual/crud/#read-operations)\n",
    "\n",
    "With relational, or _tabular_ databases, to \"select\" all \"rows\" in a \"table\", we would:\n",
    "\n",
    "```SELECT * FROM movies```\n",
    "\n",
    "The terminology differs slightly - but the elements in data persistence are quite similar.\n",
    "\n",
    "## Database Elements\n",
    "\n",
    "|Tabular|Document|\n",
    "|-------|-------|\n",
    "|table|collection|\n",
    "|row|document|\n",
    "|column|key|\n",
    "|index|index|\n",
    "\n",
    "## Data Query Commands\n",
    "|SQL|MQL|\n",
    "|---|---|\n",
    "|select|find|\n",
    "\n",
    "With that in mind, To \"find\" all documents in the collection, pass an empty document as the query filter parameter to the find method. The query filter parameter determines the select criteria:\n"
   ]
  },
  {
   "cell_type": "code",
   "execution_count": 18,
   "metadata": {},
   "outputs": [
    {
     "name": "stdout",
     "output_type": "stream",
     "text": [
      "{'_id': ObjectId('5d235693b0b6f9a9deb0f046'),\n",
      " 'cast': ['Panda', 'Michael Scott'],\n",
      " 'countries': ['USA'],\n",
      " 'fullplot': 'a new movie about a panda that eats shoots and leaves',\n",
      " 'genres': ['Short'],\n",
      " 'title': 'a new movie',\n",
      " 'type': 'movie',\n",
      " 'year': 1893}\n",
      "{'_id': ObjectId('5d2356d4b0b6f9a9deb0f047'),\n",
      " 'cast': ['Chad Smith', 'Anthony Keidis'],\n",
      " 'countries': ['USA'],\n",
      " 'fullplot': 'a movie',\n",
      " 'genres': ['Short'],\n",
      " 'title': 'a title',\n",
      " 'type': 'movie',\n",
      " 'year': 1891}\n",
      "{'_id': ObjectId('5d2356d4b0b6f9a9deb0f048'),\n",
      " 'cast': ['Getty Lee', 'Neil Pert'],\n",
      " 'countries': ['USA'],\n",
      " 'fullplot': 'b movie',\n",
      " 'genres': ['Short'],\n",
      " 'title': 'b title',\n",
      " 'type': 'movie',\n",
      " 'year': 1894}\n",
      "{'_id': ObjectId('5d2356d4b0b6f9a9deb0f049'),\n",
      " 'cast': ['Sasha Baron Cohen'],\n",
      " 'countries': ['USA'],\n",
      " 'fullplot': 'c movie',\n",
      " 'genres': ['Short'],\n",
      " 'title': 'c title',\n",
      " 'type': 'movie',\n",
      " 'year': 1892}\n"
     ]
    }
   ],
   "source": [
    "import pprint\n",
    "cursor = movies.find({}).limit(10)\n",
    "for document in cursor:\n",
    "    pprint.pprint(document) # iterate the cursor"
   ]
  },
  {
   "cell_type": "markdown",
   "metadata": {},
   "source": [
    "## find_one returns a Python dictionary from the database"
   ]
  },
  {
   "cell_type": "code",
   "execution_count": 19,
   "metadata": {},
   "outputs": [
    {
     "data": {
      "text/plain": [
       "{'_id': ObjectId('5d2356d4b0b6f9a9deb0f047'),\n",
       " 'title': 'a title',\n",
       " 'fullplot': 'a movie',\n",
       " 'countries': ['USA'],\n",
       " 'year': 1891,\n",
       " 'type': 'movie',\n",
       " 'genres': ['Short'],\n",
       " 'cast': ['Chad Smith', 'Anthony Keidis']}"
      ]
     },
     "execution_count": 19,
     "metadata": {},
     "output_type": "execute_result"
    }
   ],
   "source": [
    "movies.find_one({'title': 'a title'})"
   ]
  },
  {
   "cell_type": "code",
   "execution_count": 20,
   "metadata": {},
   "outputs": [
    {
     "name": "stdout",
     "output_type": "stream",
     "text": [
      "1\n"
     ]
    }
   ],
   "source": [
    "import pprint\n",
    "pprint.pprint(movies.count_documents({\"title\": \"a title\"}))"
   ]
  },
  {
   "cell_type": "markdown",
   "metadata": {},
   "source": [
    "## Querying by Document Attributes\n",
    "\n",
    "Let's say our document model contains an array and we want to find all documents where an element in that array matches a specific value.  \n",
    "\n",
    "Our movie document model contains several array fields - Cast, for example is an array of all members of the cast for a given movie.  How might we find all movies where a specific actor was in the cast?\n",
    "```\n",
    "{\n",
    "   title: \"a movie title\",\n",
    "   cast: [\"Sasha Baron Cohen\"]\n",
    "}\n",
    "\n",
    "```\n",
    "\n",
    "How might we find all documents where `John Smith` is in the cast?\n",
    "\n",
    "To find elements that exist in a document array - use the `$in` operator as part of the `find` command.  Review the [documentation](https://docs.mongodb.com/manual/reference/operator/query/in/) for more information.\n",
    "\n"
   ]
  },
  {
   "cell_type": "markdown",
   "metadata": {},
   "source": [
    "## find returns a cursor - you can iterate over this like any other iterable"
   ]
  },
  {
   "cell_type": "code",
   "execution_count": 27,
   "metadata": {},
   "outputs": [
    {
     "data": {
      "text/plain": [
       "[{'_id': ObjectId('5d2356d4b0b6f9a9deb0f049'),\n",
       "  'title': 'c title',\n",
       "  'fullplot': 'c movie',\n",
       "  'countries': ['USA'],\n",
       "  'year': 1892,\n",
       "  'type': 'movie',\n",
       "  'genres': ['Short'],\n",
       "  'cast': ['Sasha Baron Cohen']}]"
      ]
     },
     "execution_count": 27,
     "metadata": {},
     "output_type": "execute_result"
    }
   ],
   "source": [
    "cursor = movies.find({ \"cast\" : { \"$in\" : [\"Sasha Baron Cohen\" ] }})\n",
    "list(cursor)"
   ]
  },
  {
   "cell_type": "markdown",
   "metadata": {},
   "source": [
    "## Projections: Controlling what fields are displayed.\n",
    "\n",
    "By default, queries in MongoDB return all fields in matching documents. To limit the amount of data that MongoDB sends to applications, you can include a [projection document](https://docs.mongodb.com/manual/tutorial/project-fields-from-query-results/) to specify or restrict fields to return.\n",
    "\n",
    "To list out the results of our find with a projection... we can use list()"
   ]
  },
  {
   "cell_type": "code",
   "execution_count": 25,
   "metadata": {},
   "outputs": [
    {
     "data": {
      "text/plain": [
       "[{'_id': ObjectId('5d2356d4b0b6f9a9deb0f049'), 'title': 'c title'}]"
      ]
     },
     "execution_count": 25,
     "metadata": {},
     "output_type": "execute_result"
    }
   ],
   "source": [
    "cursor =  movies.find(\n",
    "        { \"cast\" : { \"$in\" : [\"Sasha Baron Cohen\"] } }, \n",
    "        projection = { \"title\" : 1 }\n",
    "    )\n",
    "\n",
    "list( cursor )"
   ]
  },
  {
   "cell_type": "markdown",
   "metadata": {},
   "source": [
    "# UPDATE: Update our movie document\n",
    "[Documentation for Updates](https://docs.mongodb.com/manual/tutorial/update-documents/)"
   ]
  },
  {
   "cell_type": "code",
   "execution_count": 21,
   "metadata": {},
   "outputs": [
    {
     "data": {
      "text/plain": [
       "{'_id': ObjectId('5d1f2d77bb54326175210e76'),\n",
       " 'title': 'a new movie',\n",
       " 'fullplot': 'a new movie about a panda that eats shoots and leaves',\n",
       " 'countries': ['USA'],\n",
       " 'year': 1893,\n",
       " 'type': 'movie',\n",
       " 'genres': ['Short'],\n",
       " 'cast': ['Panda', 'Michael Scott'],\n",
       " 'writers': ['michael lynn', 'matthew javaly', 'maxime beugnet']}"
      ]
     },
     "execution_count": 21,
     "metadata": {},
     "output_type": "execute_result"
    }
   ],
   "source": [
    "find_query = { \"title\": \"a title\" }\n",
    "\n",
    "new_writers = { \"writers\": [ \"michael lynn\", \"matthew javaly\", \"maxime beugnet\" ] } \n",
    "\n",
    "movies.update_one( find_query, { \"$set\": new_writers })\n",
    "\n",
    "movies.find_one({ \"title\": \"a new movie\" })\n"
   ]
  },
  {
   "cell_type": "markdown",
   "metadata": {},
   "source": [
    "# DELETE: Deleting Documents\n",
    "[Documentation for Deletes](https://docs.mongodb.com/manual/tutorial/remove-documents/)\n",
    "\n",
    "## Deleting one at a time"
   ]
  },
  {
   "cell_type": "code",
   "execution_count": 30,
   "metadata": {},
   "outputs": [
    {
     "data": {
      "text/plain": [
       "<pymongo.results.DeleteResult at 0x1133a13c8>"
      ]
     },
     "execution_count": 30,
     "metadata": {},
     "output_type": "execute_result"
    }
   ],
   "source": [
    "movies.delete_one({\"title\": \"a title\"})"
   ]
  },
  {
   "cell_type": "code",
   "execution_count": 29,
   "metadata": {},
   "outputs": [],
   "source": [
    "# find it?\n",
    "movies.find_one({\"title\": \"a title\"})"
   ]
  },
  {
   "cell_type": "markdown",
   "metadata": {},
   "source": [
    "## Deleting many"
   ]
  },
  {
   "cell_type": "code",
   "execution_count": 31,
   "metadata": {},
   "outputs": [
    {
     "name": "stdout",
     "output_type": "stream",
     "text": [
      "12  movies deleted.\n"
     ]
    }
   ],
   "source": [
    "myquery = { \"title\": {\"$regex\": \"^[abc] title\"} }\n",
    "x = movies.delete_many(myquery)\n",
    "print(x.deleted_count, \" movies deleted.\")\n"
   ]
  },
  {
   "cell_type": "code",
   "execution_count": null,
   "metadata": {},
   "outputs": [],
   "source": []
  }
 ],
 "metadata": {
  "kernelspec": {
   "display_name": "Python 3",
   "language": "python",
   "name": "python3"
  },
  "language_info": {
   "codemirror_mode": {
    "name": "ipython",
    "version": 3
   },
   "file_extension": ".py",
   "mimetype": "text/x-python",
   "name": "python",
   "nbconvert_exporter": "python",
   "pygments_lexer": "ipython3",
   "version": "3.6.5"
  }
 },
 "nbformat": 4,
 "nbformat_minor": 2
}
